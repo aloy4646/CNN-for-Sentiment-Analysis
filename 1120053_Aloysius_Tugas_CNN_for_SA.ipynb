{
  "nbformat": 4,
  "nbformat_minor": 0,
  "metadata": {
    "colab": {
      "provenance": [],
      "mount_file_id": "1hnE1IpFU94Hohv1PCgVaMns6v-bT84UK",
      "authorship_tag": "ABX9TyMMmQEOOlCbAT00sN54yZGc",
      "include_colab_link": true
    },
    "kernelspec": {
      "name": "python3",
      "display_name": "Python 3"
    },
    "language_info": {
      "name": "python"
    }
  },
  "cells": [
    {
      "cell_type": "markdown",
      "metadata": {
        "id": "view-in-github",
        "colab_type": "text"
      },
      "source": [
        "<a href=\"https://colab.research.google.com/github/aloy4646/CNN-for-Sentiment-Analysis/blob/main/1120053_Aloysius_Tugas_CNN_for_SA.ipynb\" target=\"_parent\"><img src=\"https://colab.research.google.com/assets/colab-badge.svg\" alt=\"Open In Colab\"/></a>"
      ]
    },
    {
      "cell_type": "code",
      "execution_count": 5,
      "metadata": {
        "colab": {
          "base_uri": "https://localhost:8080/"
        },
        "id": "EFoQ4bFh-RaR",
        "outputId": "ef709032-79b0-428c-9501-a1d824c95a77"
      },
      "outputs": [
        {
          "output_type": "stream",
          "name": "stderr",
          "text": [
            "[nltk_data] Downloading package stopwords to /root/nltk_data...\n",
            "[nltk_data]   Unzipping corpora/stopwords.zip.\n"
          ]
        },
        {
          "output_type": "execute_result",
          "data": {
            "text/plain": [
              "True"
            ]
          },
          "metadata": {},
          "execution_count": 5
        }
      ],
      "source": [
        "import nltk\n",
        "nltk.download(\"stopwords\")"
      ]
    },
    {
      "cell_type": "code",
      "source": [
        "from nltk.corpus import stopwords\n",
        "import string\n",
        "import re\n",
        "from os import listdir\n",
        "from collections import Counter\n",
        "from keras.preprocessing.text import Tokenizer\n",
        "from numpy import array\n",
        "from keras.utils import pad_sequences\n",
        "from keras.utils.vis_utils import plot_model\n",
        "from keras.models import Sequential\n",
        "from keras.models import load_model\n",
        "from keras.layers import Dense\n",
        "from keras.layers import Flatten\n",
        "from keras.layers import Embedding\n",
        "from keras.layers.convolutional import Conv1D\n",
        "from keras.layers.convolutional import MaxPooling1D"
      ],
      "metadata": {
        "id": "9vjX-X3S-Yww"
      },
      "execution_count": 71,
      "outputs": []
    },
    {
      "cell_type": "markdown",
      "source": [
        "## Loading and Cleaning Reviews"
      ],
      "metadata": {
        "id": "qVI3RXfHMVf7"
      }
    },
    {
      "cell_type": "code",
      "source": [
        "def load_doc(filename):\n",
        "  # buka file -> read only\n",
        "  file = open(filename, 'r')\n",
        "  text = file.read()\n",
        "  file.close()\n",
        "  return text\n",
        "\n",
        "def clean_doc(doc):\n",
        "  tokens = doc.split()\n",
        "  # menyiapkan regex untuk filtering\n",
        "  re_punc = re.compile('[%s]' % re.escape(string.punctuation))\n",
        "  # membuang tanda baca \n",
        "  tokens = [re_punc.sub('', w) for w in tokens]\n",
        "  # membuang tokens yang tidak alphabetic\n",
        "  tokens = [word for word in tokens if word.isalpha()]\n",
        "  # membuang stop word\n",
        "  stop_words = set(stopwords.words('english'))\n",
        "  tokens = [w for w in tokens if not w in stop_words]\n",
        "  # membuang tokens yang panjangnya <= 1\n",
        "  tokens = [word for word in tokens if len(word) > 1]\n",
        "  return tokens"
      ],
      "metadata": {
        "id": "tMNzuTetA3pP"
      },
      "execution_count": 14,
      "outputs": []
    },
    {
      "cell_type": "markdown",
      "source": [
        "## Define Vocabulary"
      ],
      "metadata": {
        "id": "zaN3jM0DMP6k"
      }
    },
    {
      "cell_type": "code",
      "source": [
        "def add_doc_to_vocab(filename, vocab):\n",
        "  doc = load_doc(filename)\n",
        "  tokens = clean_doc(doc)\n",
        "  # update counts\n",
        "  vocab.update(tokens)\n",
        "\n",
        "def process_docs(directory, vocab):\n",
        "  for filename in listdir(directory):\n",
        "    # hanya membuka cv000 sampai cv899 untuk training\n",
        "    if filename.startswith('cv9'):\n",
        "      continue\n",
        "    path = directory + '/' + filename\n",
        "    add_doc_to_vocab(path, vocab)    "
      ],
      "metadata": {
        "id": "BaFBKbPHEoHv"
      },
      "execution_count": 8,
      "outputs": []
    },
    {
      "cell_type": "code",
      "source": [
        "vocab = Counter()\n",
        "process_docs('drive/MyDrive/review_polarity/txt_sentoken/pos', vocab)\n",
        "process_docs('drive/MyDrive/review_polarity/txt_sentoken/neg', vocab)\n",
        "print(len(vocab))"
      ],
      "metadata": {
        "colab": {
          "base_uri": "https://localhost:8080/"
        },
        "id": "bAHsJ1UYH1Mh",
        "outputId": "fcada453-3ce1-4840-dafc-d1fa5649d18e"
      },
      "execution_count": 9,
      "outputs": [
        {
          "output_type": "stream",
          "name": "stdout",
          "text": [
            "44276\n"
          ]
        }
      ]
    },
    {
      "cell_type": "code",
      "source": [
        "# print top words\n",
        "print(vocab.most_common(50))"
      ],
      "metadata": {
        "colab": {
          "base_uri": "https://localhost:8080/"
        },
        "id": "fGm0jMbxISm1",
        "outputId": "575203a8-e7c6-477f-c7e0-996ad565eac3"
      },
      "execution_count": 10,
      "outputs": [
        {
          "output_type": "stream",
          "name": "stdout",
          "text": [
            "[('film', 7983), ('one', 4946), ('movie', 4826), ('like', 3201), ('even', 2262), ('good', 2080), ('time', 2041), ('story', 1907), ('films', 1873), ('would', 1844), ('much', 1824), ('also', 1757), ('characters', 1735), ('get', 1724), ('character', 1703), ('two', 1643), ('first', 1588), ('see', 1557), ('way', 1515), ('well', 1511), ('make', 1418), ('really', 1407), ('little', 1351), ('life', 1334), ('plot', 1288), ('people', 1269), ('could', 1248), ('bad', 1248), ('scene', 1241), ('movies', 1238), ('never', 1201), ('best', 1179), ('new', 1140), ('scenes', 1135), ('man', 1131), ('many', 1130), ('doesnt', 1118), ('know', 1092), ('dont', 1086), ('hes', 1024), ('great', 1014), ('another', 992), ('action', 985), ('love', 977), ('us', 967), ('go', 952), ('director', 948), ('end', 946), ('something', 945), ('still', 936)]\n"
          ]
        }
      ]
    },
    {
      "cell_type": "code",
      "source": [
        "# menghapus tokens yang kemunculannya dibawah 5\n",
        "min_occurrence = 2\n",
        "tokens = [k for k,c in vocab.items() if c >= min_occurrence]\n",
        "print(len(tokens))"
      ],
      "metadata": {
        "colab": {
          "base_uri": "https://localhost:8080/"
        },
        "id": "cQSff2S6Dd2Q",
        "outputId": "10987c59-f7c9-4ae9-ad59-8d7f40c0c777"
      },
      "execution_count": 15,
      "outputs": [
        {
          "output_type": "stream",
          "name": "stdout",
          "text": [
            "25767\n"
          ]
        }
      ]
    },
    {
      "cell_type": "code",
      "source": [
        "def save_list(lines, filename):\n",
        "  data = '\\n'.join(lines)\n",
        "  file = open(filename, 'w')\n",
        "  file.write(data)\n",
        "  file.close()"
      ],
      "metadata": {
        "id": "C7dR7fToJ16B"
      },
      "execution_count": 12,
      "outputs": []
    },
    {
      "cell_type": "code",
      "source": [
        "save_list(tokens, 'drive/MyDrive/review_polarity/vocab.txt')"
      ],
      "metadata": {
        "id": "shWYw3pEKw-h"
      },
      "execution_count": 16,
      "outputs": []
    },
    {
      "cell_type": "markdown",
      "source": [
        "# Train CNN with Embeding Layer"
      ],
      "metadata": {
        "id": "P9HnkgVJMcVk"
      }
    },
    {
      "cell_type": "code",
      "source": [
        "def clean_doc_train(doc, vocab):\n",
        "  tokens = doc.split()\n",
        "  # menyiapkan regex untuk filtering\n",
        "  re_punc = re.compile('[%s]' % re.escape(string.punctuation))\n",
        "  # membuang tanda baca \n",
        "  tokens = [re_punc.sub('', w) for w in tokens]\n",
        "  # membuang tokens yang tidak ada di vocab\n",
        "  tokens = [w for w in tokens if w in vocab]\n",
        "  tokens = ' '.join(tokens)\n",
        "  return tokens\n",
        "\n",
        "def process_docs_train(directory, vocab, is_train):\n",
        "  documents = list()\n",
        "  for filename in listdir(directory):\n",
        "    # hanya membuka cv000 sampai cv899 untuk training\n",
        "    if is_train and filename.startswith('cv9'):\n",
        "      continue\n",
        "    if not is_train and not filename.startswith('cv9'):\n",
        "      continue\n",
        "    path = directory + '/' + filename\n",
        "    doc = load_doc(path)\n",
        "    tokens = clean_doc_train(doc, vocab)\n",
        "    documents.append(tokens)\n",
        "  return documents\n",
        "\n",
        "def load_clean_dataset(vocab, is_train):\n",
        "  neg = process_docs_train('drive/MyDrive/review_polarity/txt_sentoken/neg', vocab, is_train)\n",
        "  pos = process_docs_train('drive/MyDrive/review_polarity/txt_sentoken/pos', vocab, is_train)\n",
        "  docs = neg + pos\n",
        "  # memberi label\n",
        "  labels = array([0 for _ in range(len(neg))] + [1 for _ in range(len(pos))])\n",
        "  return docs, labels"
      ],
      "metadata": {
        "id": "PVu38VxDK6bb"
      },
      "execution_count": 60,
      "outputs": []
    },
    {
      "cell_type": "markdown",
      "source": [
        "### Encode kata ke integer"
      ],
      "metadata": {
        "id": "Y7Fr32JuRoFm"
      }
    },
    {
      "cell_type": "code",
      "source": [
        "def create_tokenizer(lines):\n",
        "  tokenizer = Tokenizer()\n",
        "  tokenizer.fit_on_texts(lines)\n",
        "  return tokenizer\n",
        "\n",
        "# encode kata ke integer\n",
        "def encode_docs(tokenizer, max_length, docs):\n",
        "  encoded = tokenizer.texts_to_sequences(docs)\n",
        "  padded = pad_sequences(encoded, maxlen=max_length, padding='post')\n",
        "  return padded"
      ],
      "metadata": {
        "id": "YtcttfEWQNHM"
      },
      "execution_count": 24,
      "outputs": []
    },
    {
      "cell_type": "markdown",
      "source": [
        "### Define model"
      ],
      "metadata": {
        "id": "wAIAoO_lR0Z_"
      }
    },
    {
      "cell_type": "code",
      "source": [
        "def define_model(vocab_size, max_length):\n",
        "  model = Sequential()\n",
        "  model.add(Embedding(vocab_size, 100, input_length=max_length))\n",
        "  model.add(Conv1D(filters=32, kernel_size=8, activation='relu'))\n",
        "  model.add(MaxPooling1D(pool_size=2))\n",
        "  model.add(Flatten())\n",
        "  model.add(Dense(10, activation='relu'))\n",
        "  model.add(Dense(1, activation='sigmoid'))\n",
        "  # compile\n",
        "  model.compile(loss='binary_crossentropy', optimizer='adam', metrics=['accuracy'])\n",
        "  model.summary()\n",
        "  plot_model(model, to_file='drive/MyDrive/review_polarity/model.png', show_shapes=True)\n",
        "  return model"
      ],
      "metadata": {
        "id": "TEtFoYv-RxZ4"
      },
      "execution_count": 50,
      "outputs": []
    },
    {
      "cell_type": "markdown",
      "source": [
        "### Load training data"
      ],
      "metadata": {
        "id": "8XMh-Hz3UGPJ"
      }
    },
    {
      "cell_type": "code",
      "source": [
        "vocab = load_doc('drive/MyDrive/review_polarity/vocab.txt')\n",
        "vocab = set(vocab.split())\n",
        "train_docs, ytrain = load_clean_dataset(vocab, True)"
      ],
      "metadata": {
        "id": "6zj5-So9S06a"
      },
      "execution_count": 61,
      "outputs": []
    },
    {
      "cell_type": "markdown",
      "source": [
        "### Training data"
      ],
      "metadata": {
        "id": "bx2jQX9hULxK"
      }
    },
    {
      "cell_type": "code",
      "source": [
        "tokenizer = create_tokenizer(train_docs)\n",
        "vocab_size = len(tokenizer.word_index) + 1\n",
        "print('Vocabulary size: %d' % vocab_size)"
      ],
      "metadata": {
        "colab": {
          "base_uri": "https://localhost:8080/"
        },
        "id": "aXmfGueeULDb",
        "outputId": "b1e68218-925a-410c-d7ba-73ee7ef00a81"
      },
      "execution_count": 62,
      "outputs": [
        {
          "output_type": "stream",
          "name": "stdout",
          "text": [
            "Vocabulary size: 25768\n"
          ]
        }
      ]
    },
    {
      "cell_type": "code",
      "source": [
        "max_length = max([len(s.split()) for s in train_docs])\n",
        "print('Maximum length: %d' % max_length)"
      ],
      "metadata": {
        "colab": {
          "base_uri": "https://localhost:8080/"
        },
        "id": "ShrRV6pSVpt-",
        "outputId": "39821c1a-7081-4eb3-f32a-ea189cd1bee7"
      },
      "execution_count": 63,
      "outputs": [
        {
          "output_type": "stream",
          "name": "stdout",
          "text": [
            "Maximum length: 1317\n"
          ]
        }
      ]
    },
    {
      "cell_type": "code",
      "source": [
        "Xtrain = encode_docs(tokenizer, max_length, train_docs)\n",
        "model = define_model(vocab_size, max_length)"
      ],
      "metadata": {
        "colab": {
          "base_uri": "https://localhost:8080/"
        },
        "id": "6J991fYlWcFt",
        "outputId": "6ca4f591-8a6c-4c33-dce3-65967b16ce8c"
      },
      "execution_count": 64,
      "outputs": [
        {
          "output_type": "stream",
          "name": "stdout",
          "text": [
            "Model: \"sequential_3\"\n",
            "_________________________________________________________________\n",
            " Layer (type)                Output Shape              Param #   \n",
            "=================================================================\n",
            " embedding_2 (Embedding)     (None, 1317, 100)         2576800   \n",
            "                                                                 \n",
            " conv1d_2 (Conv1D)           (None, 1310, 32)          25632     \n",
            "                                                                 \n",
            " max_pooling1d_2 (MaxPooling  (None, 655, 32)          0         \n",
            " 1D)                                                             \n",
            "                                                                 \n",
            " flatten_2 (Flatten)         (None, 20960)             0         \n",
            "                                                                 \n",
            " dense_4 (Dense)             (None, 10)                209610    \n",
            "                                                                 \n",
            " dense_5 (Dense)             (None, 1)                 11        \n",
            "                                                                 \n",
            "=================================================================\n",
            "Total params: 2,812,053\n",
            "Trainable params: 2,812,053\n",
            "Non-trainable params: 0\n",
            "_________________________________________________________________\n"
          ]
        }
      ]
    },
    {
      "cell_type": "code",
      "source": [
        "model.fit(Xtrain, ytrain, epochs=10, verbose=2)"
      ],
      "metadata": {
        "colab": {
          "base_uri": "https://localhost:8080/"
        },
        "id": "EWssyDMtWsai",
        "outputId": "c83f62ee-edb5-4ae1-943f-f2fb3f896eb6"
      },
      "execution_count": 66,
      "outputs": [
        {
          "output_type": "stream",
          "name": "stdout",
          "text": [
            "Epoch 1/10\n",
            "57/57 - 16s - loss: 0.6828 - accuracy: 0.5783 - 16s/epoch - 288ms/step\n",
            "Epoch 2/10\n",
            "57/57 - 17s - loss: 0.4799 - accuracy: 0.7844 - 17s/epoch - 307ms/step\n",
            "Epoch 3/10\n",
            "57/57 - 18s - loss: 0.0815 - accuracy: 0.9789 - 18s/epoch - 309ms/step\n",
            "Epoch 4/10\n",
            "57/57 - 17s - loss: 0.0072 - accuracy: 1.0000 - 17s/epoch - 301ms/step\n",
            "Epoch 5/10\n",
            "57/57 - 16s - loss: 0.0020 - accuracy: 1.0000 - 16s/epoch - 288ms/step\n",
            "Epoch 6/10\n",
            "57/57 - 16s - loss: 0.0011 - accuracy: 1.0000 - 16s/epoch - 288ms/step\n",
            "Epoch 7/10\n",
            "57/57 - 16s - loss: 6.8291e-04 - accuracy: 1.0000 - 16s/epoch - 285ms/step\n",
            "Epoch 8/10\n",
            "57/57 - 16s - loss: 4.8170e-04 - accuracy: 1.0000 - 16s/epoch - 288ms/step\n",
            "Epoch 9/10\n",
            "57/57 - 17s - loss: 3.5670e-04 - accuracy: 1.0000 - 17s/epoch - 306ms/step\n",
            "Epoch 10/10\n",
            "57/57 - 18s - loss: 2.7855e-04 - accuracy: 1.0000 - 18s/epoch - 309ms/step\n"
          ]
        },
        {
          "output_type": "execute_result",
          "data": {
            "text/plain": [
              "<keras.callbacks.History at 0x7f3f2b0594f0>"
            ]
          },
          "metadata": {},
          "execution_count": 66
        }
      ]
    },
    {
      "cell_type": "code",
      "source": [
        "model.save('drive/MyDrive/review_polarity/model.h5')"
      ],
      "metadata": {
        "id": "XnNtiN_yWxWf"
      },
      "execution_count": 67,
      "outputs": []
    },
    {
      "cell_type": "markdown",
      "source": [
        "## Evaluate the model"
      ],
      "metadata": {
        "id": "WEmRERECbzgI"
      }
    },
    {
      "cell_type": "markdown",
      "source": [
        "#### load dan encode test data"
      ],
      "metadata": {
        "id": "Bn_iwifqcNo6"
      }
    },
    {
      "cell_type": "code",
      "source": [
        "test_docs, ytest = load_clean_dataset(vocab, False)\n",
        "Xtest = encode_docs(tokenizer, max_length, test_docs)"
      ],
      "metadata": {
        "id": "l6gsZ5qnbUdv"
      },
      "execution_count": 69,
      "outputs": []
    },
    {
      "cell_type": "code",
      "source": [
        "model = load_model('drive/MyDrive/review_polarity/model.h5')\n",
        "_, acc = model.evaluate(Xtrain, ytrain, verbose=0)\n",
        "print('Train Accuracy: %f' % (acc*100))\n",
        "_, acc = model.evaluate(Xtest, ytest, verbose=0)\n",
        "print('Test Accuracy: %f' % (acc*100))"
      ],
      "metadata": {
        "colab": {
          "base_uri": "https://localhost:8080/"
        },
        "id": "ACOjIUn6cgrg",
        "outputId": "26c6260b-0b1a-40da-9dfd-76f726723e56"
      },
      "execution_count": 72,
      "outputs": [
        {
          "output_type": "stream",
          "name": "stdout",
          "text": [
            "Train Accuracy: 100.000000\n",
            "Test Accuracy: 87.000000\n"
          ]
        }
      ]
    },
    {
      "cell_type": "markdown",
      "source": [
        "## Klasifikasi review sebagai negatif atau positif"
      ],
      "metadata": {
        "id": "db4VA3-Kd-a5"
      }
    },
    {
      "cell_type": "code",
      "source": [
        "# def predict_sentiment(review, vocab, tokenizer, max_length, model):\n",
        "#   line = clean_doc_train(review, vocab)\n",
        "#   padded = encode_docs(tokenizer, max_length, [line])\n",
        "#   yhat = model.predict(padded, verbose=0)\n",
        "#   print('Percent pos: %f' % percent_pos)\n",
        "#   percent_pos = yhat[0,0]\n",
        "#   if round(percent_pos) == 0:\n",
        "#     return (1-percent_pos), 'NEGATIVE'\n",
        "#   return percent_pos, 'POSITIVE'\n",
        "\n",
        "def predict_sentiment(review, vocab, tokenizer, max_length, model):\n",
        "  # clean review\n",
        "  line = clean_doc_train(review, vocab)\n",
        "  # encode and pad review\n",
        "  padded = encode_docs(tokenizer, max_length, [line])\n",
        "  # predict sentiment\n",
        "  yhat = model.predict(padded, verbose=0)\n",
        "  # retrieve predicted percentage and label\n",
        "  percent_pos = yhat[0,0]\n",
        "  if round(percent_pos) == 0:\n",
        "    return (1-percent_pos), 'NEGATIVE'\n",
        "  return percent_pos, 'POSITIVE'"
      ],
      "metadata": {
        "id": "gWG87fpudArq"
      },
      "execution_count": 80,
      "outputs": []
    },
    {
      "cell_type": "markdown",
      "source": [
        "### Test pada positif review"
      ],
      "metadata": {
        "id": "wqVgMoh_e_wZ"
      }
    },
    {
      "cell_type": "code",
      "source": [
        "text = 'Everyone will enjoy this film. I love it, recommended!'\n",
        "percent, sentiment = predict_sentiment(text, vocab, tokenizer, max_length, model)\n",
        "print('Review: [%s]\\nSentiment: %s (%.3f%%)' % (text, sentiment, percent*100))"
      ],
      "metadata": {
        "colab": {
          "base_uri": "https://localhost:8080/"
        },
        "id": "pkpqvJOwexbS",
        "outputId": "cf5a2e9b-25d4-4a6a-a55f-c28175748aef"
      },
      "execution_count": 86,
      "outputs": [
        {
          "output_type": "stream",
          "name": "stdout",
          "text": [
            "Review: [Everyone will enjoy this film. I love it, recommended!]\n",
            "Sentiment: NEGATIVE (95.118%)\n"
          ]
        }
      ]
    },
    {
      "cell_type": "code",
      "source": [
        "text = \"\"\"glory--starring matthew broderick , denzel washington , and morgan freeman--is the true story of the 54th regiment of massachusetts , the first black fighting unit recruited by the north during the civil war . \n",
        "broderick plays robert gould shaw , the young white officer who led the black soldiers into battle . \n",
        "shaw , the son of well-to-do abolitionists , hailed from boston high society . \n",
        "the letters he wrote home to his parents during the war are on display at harvard , and were , evidently , the inspiration for glory . \n",
        "as the film begins in 1862 , shaw is a captain in the northern forces . \n",
        "like private eriksson ( michael j . fox ) in casualties of war , shaw initially is naive and idealistic about the war--that is , until his company is attacked by enemy forces . \n",
        "shaw experiences first hand the horror and chaos of battle , witnessing mass slaughter and receiving a minor wound himself when a bullet grazes his neck . \n",
        "soon after his recovery , shaw is promoted to colonel and assigned to enlist and train blacks in the war effort . \n",
        "glory is the story not only of colonel shaw , but also of the black soldiers who laid down their lives to free their brothers from slavery . \n",
        "the film periodically jumps between shaw's point of view and the perspective of the black soldiers . \n",
        "the movie introduces us to a handful of black recruits , and we follow them from their enlistment through basic training and finally into action . \n",
        "the large black cast is uniformly outstanding , especially washington who is electrifying as a runaway slave with a big mouth . \n",
        "he is brash and pushy , always getting into trouble and always looking for a fight . \n",
        "his bitter , tough guy facade is really just a mask for his loneliness and vulnerability . \n",
        "washington provides much of the film's intensity and emotional power . \n",
        "in one heartbreaking scene , he is whipped for allegedly deserting the army . \n",
        "when he removes his shirt to receive the punishment , you cringe at the sight of his back , which is riddled with ugly scars from his days as a slave . \n",
        "it makes your blood boil . \n",
        "the humiliation of the beating is far more traumatic than the actual physical pain it brings ; a tear rolls down washington's cheek--and will probably run down your cheek as well . \n",
        "the episode becomes even more tragic when we learn that washington wasn't deserting the army at all ; he left camp to look for shoes because his feet were covered with oozing sores . \n",
        "freeman is , as usual , a strong presence , even in a small supporting role . \n",
        "he plays a grave digger who has buried more white soldiers than he cares to remember . \n",
        "he quickly becomes a leader among the black soldiers , holding the group together and serving as a liaison to the white officers . \n",
        "colonel shaw recognizes freeman's leadership ability and promotes him to sergeant major , making him the first black officer in the army . \n",
        "andre braugher makes an impressive film debut in the role of thomas searles , a free black who is one of shaw's close childhood friends . \n",
        "searles is educated and refined , like a white man , prompting washington to nickname him \" snow flake . \" \n",
        "the burning question is whether searles is tough enough to survive basic training and to kill in combat . \n",
        "the road from marching drills to battle action is a bumpy one for the black regiment . \n",
        "the soldiers suffer innumerable hardships , but somehow they never lose their morale . \n",
        "the army treats the black soldiers like second class citizens , subjecting them to racism and discrimination . \n",
        "they are paid only $10 a month , whereas their white counterparts earn thirteen , and , for a long time , they have to go without shoes , guns , or uniforms . \n",
        "to make matters worse , the white military hierarchy is extremely reluctant to allow the blacks into action , preferring instead to use them for manual labor . \n",
        "eventually , however , the regiment receives its boots , uniforms , rifles , and right to fight , thanks to the stubborn resolve of colonel shaw . \n",
        "shaw has absolute faith in his soldiers , and he fights tooth and nail to get them what they deserve , even if it means threatening a general with blackmail . \n",
        "broderick , in fact , is most convincing in the scenes where shaw stands up for the regiment . \n",
        "unfortunately , however , broderick's uneven performance is , in many respects , the weak link in the movie . \n",
        "in an effort to look more mature , broderick sports a mustache and a goatee , and throughout the film he slips in and out of a phony boston accent . \n",
        "he is never altogether convincing as shaw since much of the time his emotions seem forced . \n",
        "the film places too much weight on broderick's character and not enough on the black soldiers , who are more intriguing . \n",
        "glory regains lost ground with its harrowing depiction of war . \n",
        "the movie shows the devastation of war without resorting to the unnecessarily graphic gore which marred born on the fourth of july . \n",
        "glory does not try to rattle you with nauseating blood and guts . \n",
        "except for a few bullet wounds and one exploding head , the film , for the most part , leaves the gore to your imagination , which is not to say that the battle scenes in glory are timid . \n",
        "to the contrary , they are chaotic and horrifying ; it's just that director edward zwick ( the co-creator of \" thirtysomething \" ) films them with far more subtlety and restraint than oliver stone could ever muster . \n",
        "the key to glory is the group dynamic among the black soldiers . \n",
        "the movie depicts some of ( but not enough of ) their customs and rituals . \n",
        "in one scene , for example , the soldiers motivate themselves by singing prayers around the campfire . \n",
        "each man has a chance to relay a few words of inspiration . \n",
        "a couple of the movie's most touching moments involve young black children looking up to the black soldiers with awe , disbelief and pride . \n",
        "the regiment's greatest triumph comes when the soldiers distinguish themselves in battle , thereby earning the respect of their white peers and earning the honor of leading the climactic assault on fort wagner . \n",
        "like any war film , glory has its share of gloom and despair , but ultimately it proves to be a truly uplifting experience and an important history lesson , a valuable reminder that despite what the history books say ( or , more precisely , what they do not say ) , blacks played a critically important role in the north's victory over the south--forever changing the evolution of america . \"\"\"\n",
        "percent, sentiment = predict_sentiment(text, vocab, tokenizer, max_length, model)\n",
        "print('Review: [%s]\\nSentiment: %s (%.3f%%)' % (text, sentiment, percent*100))"
      ],
      "metadata": {
        "colab": {
          "base_uri": "https://localhost:8080/"
        },
        "id": "990mZlKsheYN",
        "outputId": "8ce3fb67-81cf-4732-a682-d97569f8a008"
      },
      "execution_count": 87,
      "outputs": [
        {
          "output_type": "stream",
          "name": "stdout",
          "text": [
            "Review: [glory--starring matthew broderick , denzel washington , and morgan freeman--is the true story of the 54th regiment of massachusetts , the first black fighting unit recruited by the north during the civil war . \n",
            "broderick plays robert gould shaw , the young white officer who led the black soldiers into battle . \n",
            "shaw , the son of well-to-do abolitionists , hailed from boston high society . \n",
            "the letters he wrote home to his parents during the war are on display at harvard , and were , evidently , the inspiration for glory . \n",
            "as the film begins in 1862 , shaw is a captain in the northern forces . \n",
            "like private eriksson ( michael j . fox ) in casualties of war , shaw initially is naive and idealistic about the war--that is , until his company is attacked by enemy forces . \n",
            "shaw experiences first hand the horror and chaos of battle , witnessing mass slaughter and receiving a minor wound himself when a bullet grazes his neck . \n",
            "soon after his recovery , shaw is promoted to colonel and assigned to enlist and train blacks in the war effort . \n",
            "glory is the story not only of colonel shaw , but also of the black soldiers who laid down their lives to free their brothers from slavery . \n",
            "the film periodically jumps between shaw's point of view and the perspective of the black soldiers . \n",
            "the movie introduces us to a handful of black recruits , and we follow them from their enlistment through basic training and finally into action . \n",
            "the large black cast is uniformly outstanding , especially washington who is electrifying as a runaway slave with a big mouth . \n",
            "he is brash and pushy , always getting into trouble and always looking for a fight . \n",
            "his bitter , tough guy facade is really just a mask for his loneliness and vulnerability . \n",
            "washington provides much of the film's intensity and emotional power . \n",
            "in one heartbreaking scene , he is whipped for allegedly deserting the army . \n",
            "when he removes his shirt to receive the punishment , you cringe at the sight of his back , which is riddled with ugly scars from his days as a slave . \n",
            "it makes your blood boil . \n",
            "the humiliation of the beating is far more traumatic than the actual physical pain it brings ; a tear rolls down washington's cheek--and will probably run down your cheek as well . \n",
            "the episode becomes even more tragic when we learn that washington wasn't deserting the army at all ; he left camp to look for shoes because his feet were covered with oozing sores . \n",
            "freeman is , as usual , a strong presence , even in a small supporting role . \n",
            "he plays a grave digger who has buried more white soldiers than he cares to remember . \n",
            "he quickly becomes a leader among the black soldiers , holding the group together and serving as a liaison to the white officers . \n",
            "colonel shaw recognizes freeman's leadership ability and promotes him to sergeant major , making him the first black officer in the army . \n",
            "andre braugher makes an impressive film debut in the role of thomas searles , a free black who is one of shaw's close childhood friends . \n",
            "searles is educated and refined , like a white man , prompting washington to nickname him \" snow flake . \" \n",
            "the burning question is whether searles is tough enough to survive basic training and to kill in combat . \n",
            "the road from marching drills to battle action is a bumpy one for the black regiment . \n",
            "the soldiers suffer innumerable hardships , but somehow they never lose their morale . \n",
            "the army treats the black soldiers like second class citizens , subjecting them to racism and discrimination . \n",
            "they are paid only $10 a month , whereas their white counterparts earn thirteen , and , for a long time , they have to go without shoes , guns , or uniforms . \n",
            "to make matters worse , the white military hierarchy is extremely reluctant to allow the blacks into action , preferring instead to use them for manual labor . \n",
            "eventually , however , the regiment receives its boots , uniforms , rifles , and right to fight , thanks to the stubborn resolve of colonel shaw . \n",
            "shaw has absolute faith in his soldiers , and he fights tooth and nail to get them what they deserve , even if it means threatening a general with blackmail . \n",
            "broderick , in fact , is most convincing in the scenes where shaw stands up for the regiment . \n",
            "unfortunately , however , broderick's uneven performance is , in many respects , the weak link in the movie . \n",
            "in an effort to look more mature , broderick sports a mustache and a goatee , and throughout the film he slips in and out of a phony boston accent . \n",
            "he is never altogether convincing as shaw since much of the time his emotions seem forced . \n",
            "the film places too much weight on broderick's character and not enough on the black soldiers , who are more intriguing . \n",
            "glory regains lost ground with its harrowing depiction of war . \n",
            "the movie shows the devastation of war without resorting to the unnecessarily graphic gore which marred born on the fourth of july . \n",
            "glory does not try to rattle you with nauseating blood and guts . \n",
            "except for a few bullet wounds and one exploding head , the film , for the most part , leaves the gore to your imagination , which is not to say that the battle scenes in glory are timid . \n",
            "to the contrary , they are chaotic and horrifying ; it's just that director edward zwick ( the co-creator of \" thirtysomething \" ) films them with far more subtlety and restraint than oliver stone could ever muster . \n",
            "the key to glory is the group dynamic among the black soldiers . \n",
            "the movie depicts some of ( but not enough of ) their customs and rituals . \n",
            "in one scene , for example , the soldiers motivate themselves by singing prayers around the campfire . \n",
            "each man has a chance to relay a few words of inspiration . \n",
            "a couple of the movie's most touching moments involve young black children looking up to the black soldiers with awe , disbelief and pride . \n",
            "the regiment's greatest triumph comes when the soldiers distinguish themselves in battle , thereby earning the respect of their white peers and earning the honor of leading the climactic assault on fort wagner . \n",
            "like any war film , glory has its share of gloom and despair , but ultimately it proves to be a truly uplifting experience and an important history lesson , a valuable reminder that despite what the history books say ( or , more precisely , what they do not say ) , blacks played a critically important role in the north's victory over the south--forever changing the evolution of america . ]\n",
            "Sentiment: POSITIVE (99.900%)\n"
          ]
        }
      ]
    },
    {
      "cell_type": "markdown",
      "source": [
        "### Test pada negatif review"
      ],
      "metadata": {
        "id": "SjtjiS_4fCUh"
      }
    },
    {
      "cell_type": "code",
      "source": [
        "text = 'This is a bad movie. Do not watch it. It sucks.'\n",
        "percent, sentiment = predict_sentiment(text, vocab, tokenizer, max_length, model)\n",
        "print('Review: [%s]\\nSentiment: %s (%.3f%%)' % (text, sentiment, percent*100))"
      ],
      "metadata": {
        "colab": {
          "base_uri": "https://localhost:8080/"
        },
        "id": "vJ-P6tZWe_JR",
        "outputId": "597b526c-f29b-40b2-d4cc-01da0fe76fed"
      },
      "execution_count": 77,
      "outputs": [
        {
          "output_type": "stream",
          "name": "stdout",
          "text": [
            "Percent pos: 0.040507\n",
            "Review: [This is a bad movie. Do not watch it. It sucks.]\n",
            "Sentiment: NEGATIVE (95.949%)\n"
          ]
        }
      ]
    },
    {
      "cell_type": "code",
      "source": [
        "text = \"\"\"john boorman's \" zardoz \" is a goofy cinematic debacle so fundamentally misconceived and laughably executed that it takes on a bizarre enjoyment quality all its own . \n",
        "not since the rampant bumblings of one edward d . wood jr . has a movie been so silly and so serious at the same time . \n",
        "of course , wood's career can be explained by two things : he had no money and he had no talent . \n",
        "boorman , on the other hand , cannot court such excuses to explain \" zardoz \" ( or his follow-up film , the equally awful \" exorcist ii : the heretic \" ) . \n",
        "boorman obviously had a sizable budget , a matinee idol movie star ( sean connery ) in the lead role , and although you wouldn't know it from this film , boorman does indeed have talent . \n",
        "this is the man who made the slick modern masterpiece \" deliverance \" ( 1972 ) , as well as the autobiographical world war ii drama \" hope and glory \" ( 1987 ) , the slightly over-conceived arthurian epic \" excalibur \" ( 1981 ) and the father-son jungle adventure \" the emerald forest \" ( 1985 ) . \n",
        "his films all show that boorman is never lacking in imagination , but sometimes that comes at the cost of coherence and taste . \n",
        "if boorman is anything , he's ambitious , and when he succeeds , it's in grand fashion . \n",
        "unfortunately , the bigger they are , the harder they fall , and when boorman falls , the resounding impact can be heard for miles around . \n",
        " \" zardoz \" is meant to takes its place among the grandest of mystical movies , an obsession of boorman's . \n",
        "his screenplay tries to elicit the same mythological connotations of the arthurian legends or even \" the wizard of oz , \" a book which figures into the movie's plot . \n",
        "but , despite all this reaching , the resulting movie is more unintentionally funny than intentionally enigmatical or compelling . \n",
        "the events take place in the distant year 2293 , but there is little of the typical futuristic movie-ness to be found . \n",
        "in fact , things seems to have moved backwards , with people riding horses , shooting old-style guns , and living in large victorian mansions . \n",
        "it's more middle ages than space age . \n",
        "the world of \" zardoz \" is divided into two distinct hemispheres : the outlands , where all the poor , pathetic people live , and the vortex , where a select group of wealthy intellectuals live in comfort and everlasting life . \n",
        "these immortals never grow old , they never engage in sexual activity , they possess psychological powers , and they live in a sort of quasi-utopian marxist society where everyone is equal , and everyone contributes equally to the society . \n",
        "however , if one breaks the rules , that person is punished by being aged so many years . \n",
        "if someone breaks the rules enough , he or she is aged to the point of senility , and imprisoned to an eternal existence in a geriatric home with others aged criminals . \n",
        "one of the immortals , arthur frayn ( niall buggy ) , a squirmy man with a mustache and goatee tattooed on his face , is charged with keeping order in the outlands and forcing the residents to farm so the immortals can be fed . \n",
        "like \" the wizard of oz , \" he adopts a god-like status among the people by flying in to their part of the world in a giant stone carved like a menacing head . \n",
        " ( this flying head is one of the movie's opening images , and it's a dead giveaway of the lunacy to come . ) \n",
        "calling himself zardoz , frayn gathers a bunch of outlanders and makes them into a group called the exterminators , whose purpose is to kill most of the other outlanders so they can't procreate and take up more resources . \n",
        "from inside his giant , stone head , zardoz bellows seriously laugh-inducting statements like , \" the gun is good . \n",
        "the penis is evil . \" \n",
        "that line alone is worth the movie's cult following . \n",
        "one day , an exterminator named zed ( sean connery ) , sneaks into zardoz's flying stone , pushes frayn out , and goes back to the vortex . \n",
        "once there , the immortals label him a \" brutal \" and study him like a lab rat , taking great , perverse care in exploring his sexuality , which is a mystery to them . \n",
        "they seem especially interested in his ability to gain an erection , and there is one downright hilarious sequence where a bunch of scantily-clad female scientists show zed erotic footage on a video screen in an attempt to determine what gets him worked up . \n",
        "i say \" hilarious \" because that is exactly what \" zardoz \" is . \n",
        "it is obvious that boorman did not intend it to be so ; he made this film with the straightest of faces , although i have a hard time believing that as production moved forward , he didn't get even the slightest inkling of how patently ridiculous it was becoming . \n",
        "just looking at connery is enough to give one the giggles - he spends most of the film running around in a red loin cloth that resembles a diaper , a mane of hair braided halfway down his back , a wyatt earp-style handlebar mustache , and a pair of thigh-high patent leather boots that would look more appropriate on a cheap hollywood hooker . \n",
        "boorman made the film right after the critical and financial success of \" deliverance , \" which is the only reason i can imagine a studio would green-light this effort . \n",
        "he attracted some rich talent on both sides of the camera , including cinematographer geoffrey unsworth ( \" 2001 \" ) , whose striking visuals are about the only good thing in \" zardoz \" besides the inadvertent humor . \n",
        "sean connery had made his last james bond film in 1971 , and perhaps he was looking for a change in pace . \n",
        "he got exactly that in \" zardoz , \" and it's a wonder it didn't end his career . \n",
        "i'm sure boorman intended for this movie to make some grand statements . \n",
        "is it a treatise about the infallibility of eternal life ? \n",
        "is it a condemnation of those who consider growing old to be a bad thing ? \n",
        "or is it a social statement , something about the inherent negativity of class distinctions and the violence it creates ? \n",
        "karl marx might like it if he were more like timothy leary . \n",
        "come to think of it , maybe boorman made it as an extended lsd trip . \n",
        "people high on illicit substances are the only ones i can imagine enjoying this asinine silliness as anything more than a completely unintentional comedy . \n",
        "\"\"\"\n",
        "percent, sentiment = predict_sentiment(text, vocab, tokenizer, max_length, model)\n",
        "print('Review: [%s]\\nSentiment: %s (%.3f%%)' % (text, sentiment, percent*100))"
      ],
      "metadata": {
        "colab": {
          "base_uri": "https://localhost:8080/"
        },
        "id": "eb4zqJVyffoW",
        "outputId": "57c2a463-b524-4de3-c234-5ce890137e76"
      },
      "execution_count": 88,
      "outputs": [
        {
          "output_type": "stream",
          "name": "stdout",
          "text": [
            "Review: [john boorman's \" zardoz \" is a goofy cinematic debacle so fundamentally misconceived and laughably executed that it takes on a bizarre enjoyment quality all its own . \n",
            "not since the rampant bumblings of one edward d . wood jr . has a movie been so silly and so serious at the same time . \n",
            "of course , wood's career can be explained by two things : he had no money and he had no talent . \n",
            "boorman , on the other hand , cannot court such excuses to explain \" zardoz \" ( or his follow-up film , the equally awful \" exorcist ii : the heretic \" ) . \n",
            "boorman obviously had a sizable budget , a matinee idol movie star ( sean connery ) in the lead role , and although you wouldn't know it from this film , boorman does indeed have talent . \n",
            "this is the man who made the slick modern masterpiece \" deliverance \" ( 1972 ) , as well as the autobiographical world war ii drama \" hope and glory \" ( 1987 ) , the slightly over-conceived arthurian epic \" excalibur \" ( 1981 ) and the father-son jungle adventure \" the emerald forest \" ( 1985 ) . \n",
            "his films all show that boorman is never lacking in imagination , but sometimes that comes at the cost of coherence and taste . \n",
            "if boorman is anything , he's ambitious , and when he succeeds , it's in grand fashion . \n",
            "unfortunately , the bigger they are , the harder they fall , and when boorman falls , the resounding impact can be heard for miles around . \n",
            " \" zardoz \" is meant to takes its place among the grandest of mystical movies , an obsession of boorman's . \n",
            "his screenplay tries to elicit the same mythological connotations of the arthurian legends or even \" the wizard of oz , \" a book which figures into the movie's plot . \n",
            "but , despite all this reaching , the resulting movie is more unintentionally funny than intentionally enigmatical or compelling . \n",
            "the events take place in the distant year 2293 , but there is little of the typical futuristic movie-ness to be found . \n",
            "in fact , things seems to have moved backwards , with people riding horses , shooting old-style guns , and living in large victorian mansions . \n",
            "it's more middle ages than space age . \n",
            "the world of \" zardoz \" is divided into two distinct hemispheres : the outlands , where all the poor , pathetic people live , and the vortex , where a select group of wealthy intellectuals live in comfort and everlasting life . \n",
            "these immortals never grow old , they never engage in sexual activity , they possess psychological powers , and they live in a sort of quasi-utopian marxist society where everyone is equal , and everyone contributes equally to the society . \n",
            "however , if one breaks the rules , that person is punished by being aged so many years . \n",
            "if someone breaks the rules enough , he or she is aged to the point of senility , and imprisoned to an eternal existence in a geriatric home with others aged criminals . \n",
            "one of the immortals , arthur frayn ( niall buggy ) , a squirmy man with a mustache and goatee tattooed on his face , is charged with keeping order in the outlands and forcing the residents to farm so the immortals can be fed . \n",
            "like \" the wizard of oz , \" he adopts a god-like status among the people by flying in to their part of the world in a giant stone carved like a menacing head . \n",
            " ( this flying head is one of the movie's opening images , and it's a dead giveaway of the lunacy to come . ) \n",
            "calling himself zardoz , frayn gathers a bunch of outlanders and makes them into a group called the exterminators , whose purpose is to kill most of the other outlanders so they can't procreate and take up more resources . \n",
            "from inside his giant , stone head , zardoz bellows seriously laugh-inducting statements like , \" the gun is good . \n",
            "the penis is evil . \" \n",
            "that line alone is worth the movie's cult following . \n",
            "one day , an exterminator named zed ( sean connery ) , sneaks into zardoz's flying stone , pushes frayn out , and goes back to the vortex . \n",
            "once there , the immortals label him a \" brutal \" and study him like a lab rat , taking great , perverse care in exploring his sexuality , which is a mystery to them . \n",
            "they seem especially interested in his ability to gain an erection , and there is one downright hilarious sequence where a bunch of scantily-clad female scientists show zed erotic footage on a video screen in an attempt to determine what gets him worked up . \n",
            "i say \" hilarious \" because that is exactly what \" zardoz \" is . \n",
            "it is obvious that boorman did not intend it to be so ; he made this film with the straightest of faces , although i have a hard time believing that as production moved forward , he didn't get even the slightest inkling of how patently ridiculous it was becoming . \n",
            "just looking at connery is enough to give one the giggles - he spends most of the film running around in a red loin cloth that resembles a diaper , a mane of hair braided halfway down his back , a wyatt earp-style handlebar mustache , and a pair of thigh-high patent leather boots that would look more appropriate on a cheap hollywood hooker . \n",
            "boorman made the film right after the critical and financial success of \" deliverance , \" which is the only reason i can imagine a studio would green-light this effort . \n",
            "he attracted some rich talent on both sides of the camera , including cinematographer geoffrey unsworth ( \" 2001 \" ) , whose striking visuals are about the only good thing in \" zardoz \" besides the inadvertent humor . \n",
            "sean connery had made his last james bond film in 1971 , and perhaps he was looking for a change in pace . \n",
            "he got exactly that in \" zardoz , \" and it's a wonder it didn't end his career . \n",
            "i'm sure boorman intended for this movie to make some grand statements . \n",
            "is it a treatise about the infallibility of eternal life ? \n",
            "is it a condemnation of those who consider growing old to be a bad thing ? \n",
            "or is it a social statement , something about the inherent negativity of class distinctions and the violence it creates ? \n",
            "karl marx might like it if he were more like timothy leary . \n",
            "come to think of it , maybe boorman made it as an extended lsd trip . \n",
            "people high on illicit substances are the only ones i can imagine enjoying this asinine silliness as anything more than a completely unintentional comedy . \n",
            "]\n",
            "Sentiment: NEGATIVE (88.033%)\n"
          ]
        }
      ]
    },
    {
      "cell_type": "code",
      "source": [],
      "metadata": {
        "id": "3Xno0iq6h2Us"
      },
      "execution_count": null,
      "outputs": []
    }
  ]
}